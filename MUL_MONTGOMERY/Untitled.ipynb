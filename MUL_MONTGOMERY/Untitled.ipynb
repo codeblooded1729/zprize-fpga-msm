{
 "cells": [
  {
   "cell_type": "code",
   "execution_count": 5,
   "metadata": {},
   "outputs": [],
   "source": [
    "# Run this script to generate input files\n",
    "# Then run the test bench to generate output files\n",
    "# The run the second section (with check funtion) to verify output was generated correctly\n",
    "\n",
    "q = 0x1a0111ea397fe69a4b1ba7b6434bacd764774b84f38512bf6730d2a0f6b0f6241eabfffeb153ffffb9feffffffffaaab\n",
    "F = GF(q)\n",
    "R = F(2^384)\n",
    "\n",
    "in0 = F.random_element() * R\n",
    "in1 = F.random_element() * R\n",
    "\n",
    "def save_to_file(file, value):\n",
    "    with open(file, 'w') as f:\n",
    "        f.write(hex(value)[2:].upper())\n",
    "save_to_file('Inputs/in0.txt', in0)\n",
    "save_to_file('Inputs/in1.txt', in1)"
   ]
  },
  {
   "cell_type": "code",
   "execution_count": 8,
   "metadata": {},
   "outputs": [],
   "source": [
    "\n",
    "def check(in0, in1):\n",
    "    out_file = 'Inputs/out_0.txt'\n",
    "    with open(out_file, 'r') as f:\n",
    "        f.readline()\n",
    "        f.readline()\n",
    "        val = int(f.read(), 16)\n",
    "    assert(F(val) * R == in0 * in1)\n",
    "    \n",
    "check(in0, in1)"
   ]
  },
  {
   "cell_type": "code",
   "execution_count": null,
   "metadata": {},
   "outputs": [],
   "source": []
  },
  {
   "cell_type": "code",
   "execution_count": null,
   "metadata": {},
   "outputs": [],
   "source": []
  },
  {
   "cell_type": "code",
   "execution_count": null,
   "metadata": {},
   "outputs": [],
   "source": []
  },
  {
   "cell_type": "code",
   "execution_count": null,
   "metadata": {},
   "outputs": [],
   "source": []
  },
  {
   "cell_type": "code",
   "execution_count": null,
   "metadata": {},
   "outputs": [],
   "source": []
  }
 ],
 "metadata": {
  "kernelspec": {
   "display_name": "SageMath 9.3",
   "language": "sage",
   "name": "sagemath"
  },
  "language_info": {
   "codemirror_mode": {
    "name": "ipython",
    "version": 3
   },
   "file_extension": ".py",
   "mimetype": "text/x-python",
   "name": "python",
   "nbconvert_exporter": "python",
   "pygments_lexer": "ipython3",
   "version": "3.7.10"
  }
 },
 "nbformat": 4,
 "nbformat_minor": 4
}
